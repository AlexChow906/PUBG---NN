{
 "cells": [
  {
   "cell_type": "code",
   "execution_count": 1,
   "id": "5f1df10e-652d-412f-b0f2-719d691a15ef",
   "metadata": {},
   "outputs": [],
   "source": [
    "import pandas as pd\n",
    "import matplotlib.pyplot as plt\n",
    "import numpy as np\n",
    "import seaborn as sns\n",
    "import sklearn as sk\n",
    "import tensorflow as tf\n",
    "\n",
    "from sklearn.model_selection import train_test_split\n",
    "from sklearn.preprocessing import StandardScaler\n",
    "\n",
    "from tensorflow import keras\n",
    "from tensorflow.keras import layers\n",
    "from keras import optimizers\n",
    "from keras.layers import Input, Dense, BatchNormalization, Dropout\n",
    "from keras.models import Model"
   ]
  },
  {
   "cell_type": "code",
   "execution_count": 2,
   "id": "a96c6fa6-536f-4a66-a464-ca4b7debd071",
   "metadata": {},
   "outputs": [],
   "source": [
    "#load Dataset\n",
    "df = pd.read_csv('/Users/User/Desktop/PUBG_match_data.csv')"
   ]
  },
  {
   "cell_type": "code",
   "execution_count": 3,
   "id": "42b9a6fb-6ec7-45a7-8652-3fe39c97575c",
   "metadata": {},
   "outputs": [],
   "source": [
    "df = df.drop(df[df['kills'] > 7].index)\n",
    "df = df.drop(df[df['heals'] > 12].index)\n",
    "df = df.drop(df[df['boosts'] > 7].index)\n",
    "df = df.drop(df[df['walkDistance'] > 4396].index)\n",
    "df = df.drop(df[df['swimDistance'] > 123].index)\n",
    "df = df.drop(df[df['rideDistance'] > 6966].index)\n",
    "df = df.drop(df[df['winPlacePerc'].isna()].index)\n",
    "df['healsandboosts'] = df['heals'] + df['boosts']"
   ]
  },
  {
   "cell_type": "code",
   "execution_count": 4,
   "id": "63d24273-1494-47fd-8fbf-885f8c769a64",
   "metadata": {},
   "outputs": [],
   "source": [
    "def create_group_stats(df, col):\n",
    "\n",
    "    group_stats = df.groupby('groupId')[col].agg(['max', 'min', 'mean']).reset_index()\n",
    "    group_stats = group_stats.rename({'max': f'{col}_max', 'min': f'{col}_min', 'mean': f'{col}_mean'}, axis=1)\n",
    "    df = pd.merge(df, group_stats, on='groupId')\n",
    "\n",
    "    return df"
   ]
  },
  {
   "cell_type": "code",
   "execution_count": 5,
   "id": "ce383849-666e-42a5-94a8-69aa444556cf",
   "metadata": {},
   "outputs": [],
   "source": [
    "col_list = ['kills', 'assists', 'healsandboosts', 'walkDistance', 'swimDistance', 'rideDistance','damageDealt', 'weaponsAcquired']\n",
    "for col in col_list:\n",
    "    \n",
    "    df = create_group_stats(df, col)"
   ]
  },
  {
   "cell_type": "code",
   "execution_count": 6,
   "id": "2b5aafc2-2aef-4a08-99c5-02403005b9a5",
   "metadata": {},
   "outputs": [],
   "source": [
    "#Train_test_split dataset\n",
    "target = 'winPlacePerc'\n",
    "drop_col = ['winPlacePerc','Id','matchType','heals','boosts','kills','damageDealt','maxPlace','matchDuration', 'assists', 'healsandboosts', 'walkDistance', 'swimDistance', 'rideDistance', 'weaponsAcquired','groupId','matchId']\n",
    "y = df[target]\n",
    "X = df.drop(columns = drop_col)\n",
    "train_X, test_X, train_y, test_y = train_test_split(X, y, test_size=0.2, shuffle = True)"
   ]
  },
  {
   "cell_type": "code",
   "execution_count": 7,
   "id": "155e8590-a806-4165-8d21-10fa1c3d0585",
   "metadata": {},
   "outputs": [],
   "source": [
    "#Standard_Scaler\n",
    "scaler = StandardScaler().fit(train_X)\n",
    "train_X = scaler.transform(train_X)"
   ]
  },
  {
   "cell_type": "code",
   "execution_count": 8,
   "id": "0419e190-3911-4da7-95a8-4640d8bdbe1b",
   "metadata": {},
   "outputs": [],
   "source": [
    "def get_model(input_size):\n",
    "    input_X = Input((input_size, ))\n",
    "    X = layers.Dense(32, activation = 'sigmoid')(input_X)\n",
    "    X = layers.Dropout(0.3)(X)\n",
    "    X = layers.Dense(32, activation = 'sigmoid')(X)\n",
    "    output = layers.Dense(1, activation = 'sigmoid')(X)\n",
    "    \n",
    "    model = Model(inputs = input_X, outputs = output)\n",
    "    \n",
    "    return model"
   ]
  },
  {
   "cell_type": "code",
   "execution_count": 9,
   "id": "0afcec92-6fef-4bc7-94a4-f5051c8609f0",
   "metadata": {},
   "outputs": [],
   "source": [
    "input_size = train_X.shape[1]"
   ]
  },
  {
   "cell_type": "code",
   "execution_count": 10,
   "id": "b07385eb-30c0-4b72-ab3c-f80d75db98fc",
   "metadata": {},
   "outputs": [],
   "source": [
    "m1 = get_model(input_size)"
   ]
  },
  {
   "cell_type": "code",
   "execution_count": 11,
   "id": "e75201ee-1ffa-46ff-827b-b90b6a726da1",
   "metadata": {},
   "outputs": [
    {
     "name": "stdout",
     "output_type": "stream",
     "text": [
      "Model: \"model\"\n",
      "_________________________________________________________________\n",
      " Layer (type)                Output Shape              Param #   \n",
      "=================================================================\n",
      " input_1 (InputLayer)        [(None, 37)]              0         \n",
      "                                                                 \n",
      " dense (Dense)               (None, 32)                1216      \n",
      "                                                                 \n",
      " dropout (Dropout)           (None, 32)                0         \n",
      "                                                                 \n",
      " dense_1 (Dense)             (None, 32)                1056      \n",
      "                                                                 \n",
      " dense_2 (Dense)             (None, 1)                 33        \n",
      "                                                                 \n",
      "=================================================================\n",
      "Total params: 2,305\n",
      "Trainable params: 2,305\n",
      "Non-trainable params: 0\n",
      "_________________________________________________________________\n"
     ]
    }
   ],
   "source": [
    "m1.summary()"
   ]
  },
  {
   "cell_type": "code",
   "execution_count": 12,
   "id": "1d1add09-1e9d-4d0b-b476-1c87a7b63386",
   "metadata": {},
   "outputs": [],
   "source": [
    "opt = optimizers.Adam(learning_rate = 0.01, epsilon = 1e-8, amsgrad = False)\n",
    "m1.compile(optimizer = opt, loss='mean_absolute_error', metrics=['mae'])"
   ]
  },
  {
   "cell_type": "code",
   "execution_count": null,
   "id": "56cb748b-a6b4-4ca5-9f5f-a8c82e2c207b",
   "metadata": {},
   "outputs": [
    {
     "name": "stdout",
     "output_type": "stream",
     "text": [
      "Epoch 1/50\n",
      "1651/1651 [==============================] - 2s 1ms/step - loss: 0.0803 - mae: 0.0803 - val_loss: 0.3641 - val_mae: 0.3641\n",
      "Epoch 2/50\n",
      "1651/1651 [==============================] - 2s 1ms/step - loss: 0.0690 - mae: 0.0690 - val_loss: 0.3362 - val_mae: 0.3362\n",
      "Epoch 3/50\n",
      "1651/1651 [==============================] - 2s 1ms/step - loss: 0.0672 - mae: 0.0672 - val_loss: 0.2633 - val_mae: 0.2633\n",
      "Epoch 4/50\n",
      "1651/1651 [==============================] - 2s 1ms/step - loss: 0.0662 - mae: 0.0662 - val_loss: 0.2417 - val_mae: 0.2417\n",
      "Epoch 5/50\n",
      "1651/1651 [==============================] - 2s 1ms/step - loss: 0.0657 - mae: 0.0657 - val_loss: 0.2383 - val_mae: 0.2383\n",
      "Epoch 6/50\n",
      "1651/1651 [==============================] - 2s 1ms/step - loss: 0.0653 - mae: 0.0653 - val_loss: 0.2394 - val_mae: 0.2394\n",
      "Epoch 7/50\n",
      "1651/1651 [==============================] - 2s 1ms/step - loss: 0.0651 - mae: 0.0651 - val_loss: 0.2469 - val_mae: 0.2469\n",
      "Epoch 8/50\n",
      "1651/1651 [==============================] - 2s 1ms/step - loss: 0.0649 - mae: 0.0649 - val_loss: 0.2743 - val_mae: 0.2743\n",
      "Epoch 9/50\n",
      "1651/1651 [==============================] - 2s 1ms/step - loss: 0.0647 - mae: 0.0647 - val_loss: 0.2866 - val_mae: 0.2866\n",
      "Epoch 10/50\n",
      "1651/1651 [==============================] - 2s 1ms/step - loss: 0.0646 - mae: 0.0646 - val_loss: 0.3076 - val_mae: 0.3076\n",
      "Epoch 11/50\n",
      "1651/1651 [==============================] - 2s 1ms/step - loss: 0.0645 - mae: 0.0645 - val_loss: 0.3058 - val_mae: 0.3058\n",
      "Epoch 12/50\n",
      "1651/1651 [==============================] - 2s 1ms/step - loss: 0.0644 - mae: 0.0644 - val_loss: 0.2460 - val_mae: 0.2460\n",
      "Epoch 13/50\n",
      "1651/1651 [==============================] - 2s 1ms/step - loss: 0.0644 - mae: 0.0644 - val_loss: 0.2836 - val_mae: 0.2836\n",
      "Epoch 14/50\n",
      "1651/1651 [==============================] - 2s 1ms/step - loss: 0.0642 - mae: 0.0642 - val_loss: 0.2597 - val_mae: 0.2597\n",
      "Epoch 15/50\n",
      "1651/1651 [==============================] - 2s 1ms/step - loss: 0.0642 - mae: 0.0642 - val_loss: 0.2850 - val_mae: 0.2850\n",
      "Epoch 16/50\n",
      "1651/1651 [==============================] - 2s 1ms/step - loss: 0.0641 - mae: 0.0641 - val_loss: 0.2767 - val_mae: 0.2767\n",
      "Epoch 17/50\n",
      "1651/1651 [==============================] - 2s 1ms/step - loss: 0.0640 - mae: 0.0640 - val_loss: 0.3032 - val_mae: 0.3032\n",
      "Epoch 18/50\n",
      "1651/1651 [==============================] - 2s 1ms/step - loss: 0.0639 - mae: 0.0639 - val_loss: 0.2703 - val_mae: 0.2703\n",
      "Epoch 19/50\n",
      "1651/1651 [==============================] - 2s 1ms/step - loss: 0.0638 - mae: 0.0638 - val_loss: 0.2566 - val_mae: 0.2566\n",
      "Epoch 20/50\n",
      "1651/1651 [==============================] - 2s 1ms/step - loss: 0.0637 - mae: 0.0637 - val_loss: 0.2568 - val_mae: 0.2568\n",
      "Epoch 21/50\n",
      "1651/1651 [==============================] - 2s 1ms/step - loss: 0.0636 - mae: 0.0636 - val_loss: 0.2577 - val_mae: 0.2577\n",
      "Epoch 22/50\n",
      "1651/1651 [==============================] - 2s 1ms/step - loss: 0.0636 - mae: 0.0636 - val_loss: 0.2324 - val_mae: 0.2324\n",
      "Epoch 23/50\n",
      "1651/1651 [==============================] - 2s 1ms/step - loss: 0.0635 - mae: 0.0635 - val_loss: 0.2541 - val_mae: 0.2541\n",
      "Epoch 24/50\n",
      "1651/1651 [==============================] - 2s 1ms/step - loss: 0.0634 - mae: 0.0634 - val_loss: 0.2527 - val_mae: 0.2527\n",
      "Epoch 25/50\n",
      "1651/1651 [==============================] - 2s 1ms/step - loss: 0.0633 - mae: 0.0633 - val_loss: 0.2308 - val_mae: 0.2308\n",
      "Epoch 26/50\n",
      "1651/1651 [==============================] - 2s 1ms/step - loss: 0.0633 - mae: 0.0633 - val_loss: 0.2426 - val_mae: 0.2426\n",
      "Epoch 27/50\n",
      "1651/1651 [==============================] - 2s 1ms/step - loss: 0.0632 - mae: 0.0632 - val_loss: 0.2303 - val_mae: 0.2303\n",
      "Epoch 28/50\n",
      "1651/1651 [==============================] - 2s 1ms/step - loss: 0.0631 - mae: 0.0631 - val_loss: 0.2386 - val_mae: 0.2386\n",
      "Epoch 29/50\n",
      "1651/1651 [==============================] - 2s 1ms/step - loss: 0.0630 - mae: 0.0630 - val_loss: 0.2465 - val_mae: 0.2465\n",
      "Epoch 30/50\n",
      "1651/1651 [==============================] - 2s 1ms/step - loss: 0.0630 - mae: 0.0630 - val_loss: 0.2512 - val_mae: 0.2512\n",
      "Epoch 31/50\n",
      "1651/1651 [==============================] - 2s 1ms/step - loss: 0.0630 - mae: 0.0630 - val_loss: 0.2472 - val_mae: 0.2472\n",
      "Epoch 32/50\n",
      "1651/1651 [==============================] - 2s 1ms/step - loss: 0.0629 - mae: 0.0629 - val_loss: 0.2471 - val_mae: 0.2471\n",
      "Epoch 33/50\n",
      "1651/1651 [==============================] - 2s 1ms/step - loss: 0.0629 - mae: 0.0629 - val_loss: 0.2529 - val_mae: 0.2529\n",
      "Epoch 34/50\n",
      "1651/1651 [==============================] - 2s 1ms/step - loss: 0.0628 - mae: 0.0628 - val_loss: 0.2550 - val_mae: 0.2550\n",
      "Epoch 35/50\n",
      "1651/1651 [==============================] - 2s 1ms/step - loss: 0.0628 - mae: 0.0628 - val_loss: 0.2565 - val_mae: 0.2565\n",
      "Epoch 36/50\n",
      " 639/1651 [==========>...................] - ETA: 1s - loss: 0.0628 - mae: 0.0628"
     ]
    }
   ],
   "source": [
    "history = m1.fit(train_X, train_y, batch_size = 2048, epochs = 50, validation_data = (test_X, test_y), verbose = 1)"
   ]
  },
  {
   "cell_type": "code",
   "execution_count": null,
   "id": "2c44b282-42d9-443b-b80b-6c68492da161",
   "metadata": {},
   "outputs": [],
   "source": [
    "plt.figure(figsize = (40,15))\n",
    "plt.plot(history.history['loss'])\n",
    "plt.plot(history.history['val_loss'])\n",
    "plt.title('Model loss')\n",
    "plt.ylabel('Loss')\n",
    "plt.xlabel('Epoch')\n",
    "plt.legend(['Train', 'Test'], loc='upper left')\n",
    "plt.show()"
   ]
  },
  {
   "cell_type": "code",
   "execution_count": null,
   "id": "6e6da14e-98ed-4f04-8a88-30c4783fd356",
   "metadata": {},
   "outputs": [],
   "source": []
  }
 ],
 "metadata": {
  "kernelspec": {
   "display_name": "Python 3 (ipykernel)",
   "language": "python",
   "name": "python3"
  },
  "language_info": {
   "codemirror_mode": {
    "name": "ipython",
    "version": 3
   },
   "file_extension": ".py",
   "mimetype": "text/x-python",
   "name": "python",
   "nbconvert_exporter": "python",
   "pygments_lexer": "ipython3",
   "version": "3.9.12"
  }
 },
 "nbformat": 4,
 "nbformat_minor": 5
}
